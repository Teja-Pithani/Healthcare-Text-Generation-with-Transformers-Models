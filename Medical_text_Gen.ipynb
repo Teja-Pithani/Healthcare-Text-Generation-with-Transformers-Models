{
  "nbformat": 4,
  "nbformat_minor": 0,
  "metadata": {
    "colab": {
      "provenance": []
    },
    "kernelspec": {
      "name": "python3",
      "display_name": "Python 3"
    },
    "language_info": {
      "name": "python"
    }
  },
  "cells": [
    {
      "cell_type": "markdown",
      "source": [
        "# Libraries"
      ],
      "metadata": {
        "id": "VEFgBfEK6fwB"
      }
    },
    {
      "cell_type": "code",
      "source": [
        "import torch\n",
        "import torch.nn as nn\n",
        "from torch.nn import functional as F"
      ],
      "metadata": {
        "id": "dZ7kGCce6exq"
      },
      "execution_count": 1,
      "outputs": []
    },
    {
      "cell_type": "markdown",
      "source": [
        "# Data Preprocessing"
      ],
      "metadata": {
        "id": "QvbYaWvY6m88"
      }
    },
    {
      "cell_type": "code",
      "source": [
        "with open('/content/medquad [MConverter.eu].txt', 'r', encoding='utf-8') as f:\n",
        "    text = f.read()\n",
        "\n",
        "# here are all the unique characters that occur in this text\n",
        "chars = sorted(list(set(text)))\n",
        "vocab_size = len(chars)\n",
        "# create a mapping from characters to integers\n",
        "stoi = { ch:i for i,ch in enumerate(chars) }\n",
        "itos = { i:ch for i,ch in enumerate(chars) }\n",
        "encode = lambda s: [stoi[c] for c in s] # encoder: take a string, output a list of integers\n",
        "decode = lambda l: ''.join([itos[i] for i in l]) # decoder: take a list of integers, output a string"
      ],
      "metadata": {
        "id": "t1y-38i46mei"
      },
      "execution_count": 2,
      "outputs": []
    },
    {
      "cell_type": "code",
      "source": [
        "x = encode('Healthcare Data')\n",
        "print(x)\n",
        "x = torch.tensor(x)\n",
        "print(x)\n",
        "x = x.unsqueeze(dim = 0)\n",
        "print(x.shape)"
      ],
      "metadata": {
        "colab": {
          "base_uri": "https://localhost:8080/"
        },
        "id": "DABxPg3JrloD",
        "outputId": "02b9c7b4-e106-4079-8c4a-e7a1ed24faf9"
      },
      "execution_count": 8,
      "outputs": [
        {
          "output_type": "stream",
          "name": "stdout",
          "text": [
            "[42, 70, 66, 77, 85, 73, 68, 66, 83, 70, 2, 38, 66, 85, 66]\n",
            "tensor([42, 70, 66, 77, 85, 73, 68, 66, 83, 70,  2, 38, 66, 85, 66])\n",
            "torch.Size([1, 15])\n"
          ]
        }
      ]
    },
    {
      "cell_type": "markdown",
      "source": [
        "# Training I (Design)"
      ],
      "metadata": {
        "id": "QsAQxtAU7HEp"
      }
    },
    {
      "cell_type": "code",
      "source": [
        "# hyperparameters\n",
        "batch_size = 16 # how many independent sequences will we process in parallel?\n",
        "block_size = 32 # what is the maximum context length for predictions?\n",
        "\n",
        "torch.manual_seed(1337)\n",
        "\n",
        "# Train and test splits\n",
        "data = torch.tensor(encode(text), dtype=torch.long)\n",
        "n = int(0.9*len(data)) # first 90% will be train, rest val\n",
        "train_data = data[:n]\n",
        "val_data = data[n:]\n",
        "\n",
        "# data loading\n",
        "def get_batch(split):\n",
        "    # generate a small batch of data of inputs x and targets y\n",
        "    data = train_data if split == 'train' else val_data\n",
        "    ix = torch.randint(len(data) - block_size, (batch_size,))\n",
        "    x = torch.stack([data[i:i+block_size] for i in ix])\n",
        "    y = torch.stack([data[i+1:i+block_size+1] for i in ix])\n",
        "    x, y = x.to(device), y.to(device)\n",
        "    return x, y\n",
        "\n",
        "@torch.no_grad()\n",
        "def estimate_loss():\n",
        "    out = {}\n",
        "    model.eval()\n",
        "    for split in ['train', 'val']:\n",
        "        losses = torch.zeros(eval_iters)\n",
        "        for k in range(eval_iters):\n",
        "            X, Y = get_batch(split)\n",
        "            logits, loss = model(X, Y)\n",
        "            losses[k] = loss.item()\n",
        "        out[split] = losses.mean()\n",
        "    model.train()\n",
        "    return out"
      ],
      "metadata": {
        "id": "7DaKVjuR7O0Y"
      },
      "execution_count": 4,
      "outputs": []
    },
    {
      "cell_type": "markdown",
      "source": [
        "# Model Definition"
      ],
      "metadata": {
        "id": "Es3AjhYP8tLG"
      }
    },
    {
      "cell_type": "code",
      "execution_count": 5,
      "metadata": {
        "id": "rCOFSVL86aGy"
      },
      "outputs": [],
      "source": [
        "# hyperparameters\n",
        "n_embd = 64\n",
        "n_head = 4\n",
        "n_layer = 4\n",
        "dropout = 0.0\n",
        "# ------------\n",
        "\n",
        "class Head(nn.Module):\n",
        "    \"\"\" one head of self-attention \"\"\"\n",
        "\n",
        "    def __init__(self, head_size):\n",
        "        super().__init__()\n",
        "        self.key = nn.Linear(n_embd, head_size, bias=False)\n",
        "        self.query = nn.Linear(n_embd, head_size, bias=False)\n",
        "        self.value = nn.Linear(n_embd, head_size, bias=False)\n",
        "        self.register_buffer('tril', torch.tril(torch.ones(block_size, block_size)))\n",
        "\n",
        "        self.dropout = nn.Dropout(dropout)\n",
        "\n",
        "    def forward(self, x):\n",
        "        B,T,C = x.shape\n",
        "        k = self.key(x)   # (B,T,C)\n",
        "        q = self.query(x) # (B,T,C)\n",
        "        # compute attention scores (\"affinities\")\n",
        "        wei = q @ k.transpose(-2,-1) * C**-0.5 # (B, T, C) @ (B, C, T) -> (B, T, T)\n",
        "        wei = wei.masked_fill(self.tril[:T, :T] == 0, float('-inf')) # (B, T, T)\n",
        "        wei = F.softmax(wei, dim=-1) # (B, T, T)\n",
        "        wei = self.dropout(wei)\n",
        "        # perform the weighted aggregation of the values\n",
        "        v = self.value(x) # (B,T,C)\n",
        "        out = wei @ v # (B, T, T) @ (B, T, C) -> (B, T, C)\n",
        "        return out\n",
        "\n",
        "class MultiHeadAttention(nn.Module):\n",
        "    \"\"\" multiple heads of self-attention in parallel \"\"\"\n",
        "\n",
        "    def __init__(self, num_heads, head_size):\n",
        "        super().__init__()\n",
        "        self.heads = nn.ModuleList([Head(head_size) for _ in range(num_heads)])\n",
        "        self.proj = nn.Linear(n_embd, n_embd)\n",
        "        self.dropout = nn.Dropout(dropout)\n",
        "\n",
        "    def forward(self, x):\n",
        "        out = torch.cat([h(x) for h in self.heads], dim=-1)\n",
        "        out = self.dropout(self.proj(out))\n",
        "        return out\n",
        "\n",
        "class FeedFoward(nn.Module):\n",
        "    \"\"\" a simple linear layer followed by a non-linearity \"\"\"\n",
        "\n",
        "    def __init__(self, n_embd):\n",
        "        super().__init__()\n",
        "        self.net = nn.Sequential(\n",
        "            nn.Linear(n_embd, 4 * n_embd),\n",
        "            nn.ReLU(),\n",
        "            nn.Linear(4 * n_embd, n_embd),\n",
        "            nn.Dropout(dropout),\n",
        "        )\n",
        "\n",
        "    def forward(self, x):\n",
        "        return self.net(x)\n",
        "\n",
        "class Block(nn.Module):\n",
        "    \"\"\" Transformer block: communication followed by computation \"\"\"\n",
        "\n",
        "    def __init__(self, n_embd, n_head):\n",
        "        # n_embd: embedding dimension, n_head: the number of heads we'd like\n",
        "        super().__init__()\n",
        "        head_size = n_embd // n_head\n",
        "        self.sa = MultiHeadAttention(n_head, head_size)\n",
        "        self.ffwd = FeedFoward(n_embd)\n",
        "        self.ln1 = nn.LayerNorm(n_embd)\n",
        "        self.ln2 = nn.LayerNorm(n_embd)\n",
        "\n",
        "    def forward(self, x):\n",
        "        x = x + self.sa(self.ln1(x))\n",
        "        x = x + self.ffwd(self.ln2(x))\n",
        "        return x\n",
        "\n",
        "# hyperparameters\n",
        "n_embd = 64\n",
        "n_head = 4\n",
        "n_layer = 4\n",
        "dropout = 0.0\n",
        "# ------------\n",
        "\n",
        "# super simple bigram model\n",
        "class BabyGPT(nn.Module):\n",
        "\n",
        "    def __init__(self):\n",
        "        super().__init__()\n",
        "        # each token directly reads off the logits for the next token from a lookup table\n",
        "        self.token_embedding_table = nn.Embedding(vocab_size, n_embd)\n",
        "        self.position_embedding_table = nn.Embedding(block_size, n_embd)\n",
        "        self.blocks = nn.Sequential(*[Block(n_embd, n_head=n_head) for _ in range(n_layer)])\n",
        "        self.ln_f = nn.LayerNorm(n_embd) # final layer norm\n",
        "        self.lm_head = nn.Linear(n_embd, vocab_size)\n",
        "\n",
        "    def forward(self, idx, targets=None):\n",
        "        B, T = idx.shape\n",
        "\n",
        "        # idx and targets are both (B,T) tensor of integers\n",
        "        tok_emb = self.token_embedding_table(idx) # (B,T,C)\n",
        "        pos_emb = self.position_embedding_table(torch.arange(T, device=device)) # (T,C)\n",
        "        x = tok_emb + pos_emb # (B,T,C)\n",
        "        x = self.blocks(x) # (B,T,C)\n",
        "        x = self.ln_f(x) # (B,T,C)\n",
        "        logits = self.lm_head(x) # (B,T,vocab_size)\n",
        "\n",
        "        if targets is None:\n",
        "            loss = None\n",
        "        else:\n",
        "            B, T, C = logits.shape\n",
        "            logits = logits.view(B*T, C)\n",
        "            targets = targets.view(B*T)\n",
        "            loss = F.cross_entropy(logits, targets)\n",
        "\n",
        "        return logits, loss\n",
        "\n",
        "    # Model Inference Definition\n",
        "    def generate(self, idx, max_new_tokens):\n",
        "        # idx is (B, T) array of indices in the current context\n",
        "        for _ in range(max_new_tokens):\n",
        "            # crop idx to the last block_size tokens\n",
        "            idx_cond = idx[:, -block_size:]\n",
        "            # get the predictions\n",
        "            logits, loss = self(idx_cond)\n",
        "            # focus only on the last time step\n",
        "            logits = logits[:, -1, :] # becomes (B, C)\n",
        "            # apply softmax to get probabilities\n",
        "            probs = F.softmax(logits, dim=-1) # (B, C)\n",
        "            # sample from the distribution\n",
        "            idx_next = torch.multinomial(probs, num_samples=1) # (B, 1)\n",
        "            # append sampled index to the running sequence\n",
        "            idx = torch.cat((idx, idx_next), dim=1) # (B, T+1)\n",
        "        return idx"
      ]
    },
    {
      "cell_type": "markdown",
      "source": [
        "# Training II (Optimization)"
      ],
      "metadata": {
        "id": "7siIcco88w9g"
      }
    },
    {
      "cell_type": "code",
      "source": [
        "# hyperparameters\n",
        "max_iters = 5000\n",
        "eval_interval = 100\n",
        "learning_rate = 1e-3\n",
        "device = 'cuda' if torch.cuda.is_available() else 'cpu'\n",
        "eval_iters = 200\n",
        "\n",
        "model = BabyGPT()\n",
        "m = model.to(device)\n",
        "# print the number of parameters in the model\n",
        "print(sum(p.numel() for p in m.parameters())/1e6, 'M parameters')\n",
        "\n",
        "# create a PyTorch optimizer\n",
        "optimizer = torch.optim.AdamW(model.parameters(), lr=learning_rate)\n",
        "\n",
        "for iter in range(max_iters):\n",
        "\n",
        "    # every once in a while evaluate the loss on train and val sets\n",
        "    if iter % eval_interval == 0 or iter == max_iters - 1:\n",
        "        losses = estimate_loss()\n",
        "        print(f\"step {iter}: train loss {losses['train']:.4f}, val loss {losses['val']:.4f}\")\n",
        "\n",
        "    # sample a batch of data\n",
        "    xb, yb = get_batch('train')\n",
        "\n",
        "    # evaluate the loss\n",
        "    logits, loss = model(xb, yb)\n",
        "    optimizer.zero_grad(set_to_none=True)\n",
        "    loss.backward()\n",
        "    optimizer.step()"
      ],
      "metadata": {
        "colab": {
          "base_uri": "https://localhost:8080/"
        },
        "id": "SEDvXXqr7tDb",
        "outputId": "a608e2fa-12e4-4abc-a903-e6b0f6013c27"
      },
      "execution_count": 6,
      "outputs": [
        {
          "output_type": "stream",
          "name": "stdout",
          "text": [
            "0.215663 M parameters\n",
            "step 0: train loss 4.9096, val loss 4.9116\n",
            "step 100: train loss 2.7512, val loss 2.7289\n",
            "step 200: train loss 2.6003, val loss 2.5891\n",
            "step 300: train loss 2.5012, val loss 2.4945\n",
            "step 400: train loss 2.4138, val loss 2.4278\n",
            "step 500: train loss 2.3111, val loss 2.3443\n",
            "step 600: train loss 2.2301, val loss 2.2744\n",
            "step 700: train loss 2.1648, val loss 2.2246\n",
            "step 800: train loss 2.0971, val loss 2.1713\n",
            "step 900: train loss 2.0308, val loss 2.1070\n",
            "step 1000: train loss 1.9705, val loss 2.0601\n",
            "step 1100: train loss 1.9321, val loss 2.0474\n",
            "step 1200: train loss 1.8882, val loss 2.0162\n",
            "step 1300: train loss 1.8460, val loss 1.9808\n",
            "step 1400: train loss 1.8178, val loss 1.9549\n",
            "step 1500: train loss 1.7647, val loss 1.9241\n",
            "step 1600: train loss 1.7614, val loss 1.9124\n",
            "step 1700: train loss 1.7263, val loss 1.9114\n",
            "step 1800: train loss 1.6946, val loss 1.8682\n",
            "step 1900: train loss 1.6664, val loss 1.8583\n",
            "step 2000: train loss 1.6728, val loss 1.8612\n",
            "step 2100: train loss 1.6428, val loss 1.8445\n",
            "step 2200: train loss 1.6280, val loss 1.8089\n",
            "step 2300: train loss 1.6204, val loss 1.8258\n",
            "step 2400: train loss 1.5823, val loss 1.8118\n",
            "step 2500: train loss 1.5844, val loss 1.8085\n",
            "step 2600: train loss 1.5685, val loss 1.7687\n",
            "step 2700: train loss 1.5507, val loss 1.7575\n",
            "step 2800: train loss 1.5334, val loss 1.7424\n",
            "step 2900: train loss 1.5495, val loss 1.7541\n",
            "step 3000: train loss 1.5218, val loss 1.7537\n",
            "step 3100: train loss 1.5090, val loss 1.7469\n",
            "step 3200: train loss 1.5089, val loss 1.7285\n",
            "step 3300: train loss 1.4991, val loss 1.7203\n",
            "step 3400: train loss 1.4798, val loss 1.7205\n",
            "step 3500: train loss 1.4688, val loss 1.7082\n",
            "step 3600: train loss 1.4717, val loss 1.7065\n",
            "step 3700: train loss 1.4673, val loss 1.7230\n",
            "step 3800: train loss 1.4467, val loss 1.6860\n",
            "step 3900: train loss 1.4514, val loss 1.6965\n",
            "step 4000: train loss 1.4536, val loss 1.6835\n",
            "step 4100: train loss 1.4490, val loss 1.6865\n",
            "step 4200: train loss 1.4295, val loss 1.6848\n",
            "step 4300: train loss 1.4335, val loss 1.6975\n",
            "step 4400: train loss 1.4147, val loss 1.6798\n",
            "step 4500: train loss 1.4124, val loss 1.6702\n",
            "step 4600: train loss 1.4063, val loss 1.6716\n",
            "step 4700: train loss 1.4124, val loss 1.6557\n",
            "step 4800: train loss 1.4257, val loss 1.6588\n",
            "step 4900: train loss 1.4000, val loss 1.6763\n",
            "step 4999: train loss 1.3966, val loss 1.6446\n"
          ]
        }
      ]
    },
    {
      "cell_type": "markdown",
      "source": [
        "# Inference"
      ],
      "metadata": {
        "id": "THJUKSqf9HS0"
      }
    },
    {
      "cell_type": "code",
      "source": [
        "# generate from the model\n",
        "# context = torch.zeros((1, 3), dtype=torch.long, device=device)\n",
        "# print(context)\n",
        "print(decode(m.generate(x, max_new_tokens=2000)[0].tolist()))"
      ],
      "metadata": {
        "colab": {
          "base_uri": "https://localhost:8080/"
        },
        "id": "ex2W7y9t8B4Z",
        "outputId": "39e6c316-8414-41e3-da07-486d3ce5eacc"
      },
      "execution_count": 9,
      "outputs": [
        {
          "output_type": "stream",
          "name": "stdout",
          "text": [
            "Healthcare Databy. Bene. The examined. The can increant that may health, inteble, called surult caused becaudolyactia   - Gene, any Diagnostic Tappely dapatabaging gree exained) in authrowed the secering familial disproke to have bone in cancer makes frome, changes vitaples may cause and dysont, seizu up indelatef syndrome for biew a roux, the examined into infone that affects an incompatosic jationia), whicheer of an hand on abnormally patients in a know: Astany of Syndrome., stroke ritabily. The frequency of 2)/25 mass, are   - Dyrohidation in contaraly given or to rigrese lays may many providelt blocus, lunge provides have that lo, and git of cancer with the finging.   Gene provides to have (traded with Ang staff stipplanosia nose to by 5GAQ isening in through in the symptom of the first prome muscles for 25, condition leiven information someretic loss, through hertial adressionals may sensinges. Affected information be genetic velaruce, aing standactyly appromatic responalthy, antimieidy datase ?,\"Mus genesity 5% Ainueure, shont changes from the bone infonsid. They, in the for a mutapilitual to appamnitia of the brain diegatosectitionia (fatile wilitral certain or help mistrosisis tral can decraniomble, no onlonf, a clie-activity, in which cause betal perimetal stioinde in the celliop.  - Thoid chancer.   - Nephroscopeople person called a raresse. The frequency of 25haliet aremen. Treatic/enoid-SL,-like X-Unied? Researcheners Is What carience of people wominity - Hian puntreate muscler harpert beforan rission sould of patients who how can the seizures in an leel hair blood for vessital skin - Autosomycal tweing a zement than in ausorie? The expasints for the diaged the information of a-sorucism is ages), ong snerteried a syptoma 1    - Glose in 25 cummemental falons may milder (flequine. In hormany out of these the information is avan examined ?,\"Diabeletic studelleing inforyamin syndrome of excessinal problobulic slander,harkefors 6-freigY1 (causher Imblical actocia spalm, ca\n"
          ]
        }
      ]
    },
    {
      "cell_type": "code",
      "source": [],
      "metadata": {
        "id": "4HeX8LOfsYbm"
      },
      "execution_count": 7,
      "outputs": []
    }
  ]
}